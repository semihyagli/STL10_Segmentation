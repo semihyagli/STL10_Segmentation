{
 "cells": [
  {
   "cell_type": "code",
   "execution_count": null,
   "metadata": {},
   "outputs": [],
   "source": [
    "# %pip install pillow\n",
    "# %pip install matplotlib\n",
    "# %pip install imageio"
   ]
  },
  {
   "cell_type": "code",
   "execution_count": 1,
   "metadata": {},
   "outputs": [
    {
     "name": "stdout",
     "output_type": "stream",
     "text": [
      "sys.version_info(major=3, minor=11, micro=6, releaselevel='final', serial=0)\n"
     ]
    }
   ],
   "source": [
    "from PIL import Image, ImageDraw, ImageEnhance\n",
    "from numpy import arange\n",
    "import matplotlib.pyplot as plt\n",
    "from imageio import imsave\n",
    "import json\n",
    "import stl10\n",
    "import os"
   ]
  },
  {
   "cell_type": "code",
   "execution_count": 15,
   "metadata": {},
   "outputs": [],
   "source": [
    "\n",
    "def draw_transparent_squares(\n",
    "        img_bin_loc,\n",
    "        segment_marks_json_loc,\n",
    "        img_index,  \n",
    "        squarenum_x=16,  \n",
    "        outline_color=\"#ffffff\", \n",
    "        transparency=0.5\n",
    "        ):\n",
    "\n",
    "    layerColors = {\n",
    "    \"0\": \"#ffff00\",\n",
    "    \"1\": \"#ff0000\",\n",
    "    \"2\": \"#00ff00\",\n",
    "    \"3\": \"#4169e1\",\n",
    "    \"4\": \"#ff00ff\",\n",
    "    \"5\": \"#ffa500\",\n",
    "    \"6\": \"#00ffff\",\n",
    "    \"7\": \"#00bfff\",\n",
    "    \"8\": \"#cd5c5c\",\n",
    "    }\n",
    "\n",
    "    with open(segment_marks_json_loc, 'r') as f:\n",
    "        segment_marks = json.load(f)\n",
    "\n",
    "    marked_squares = segment_marks[str(img_index)]\n",
    "\n",
    "    all_images = stl10.read_all_images(img_bin_loc)\n",
    "    img = Image.fromarray(all_images[int(img_index)]).convert(\"RGBA\")\n",
    "    imgWidth, imgHeight = img.size\n",
    "\n",
    "    overlay = Image.new(\"RGBA\", img.size, (255, 255, 255, 0))\n",
    "    draw = ImageDraw.Draw(overlay)\n",
    "    \n",
    "    squareSize = min(imgWidth, imgHeight)/squarenum_x\n",
    "\n",
    "    for y in arange(0, imgHeight, squareSize):\n",
    "        for x in arange(0, imgWidth, squareSize):\n",
    "            top_left = (x, y)\n",
    "            bottom_right = (x + squareSize, y + squareSize)\n",
    "\n",
    "            for label in marked_squares:\n",
    "                if [int(x / squareSize), int(y / squareSize)] in marked_squares[label]:\n",
    "                    draw.rectangle([top_left, bottom_right], \n",
    "                                    fill=layerColors[label[-1]]+ format(int(transparency * 255), '02X'),\n",
    "                                    outline=layerColors[label[-1]] + format(int(transparency * 255), '02X'),\n",
    "                                    width=3)\n",
    "                else:\n",
    "                    draw.rectangle([top_left, bottom_right], outline=outline_color + format(int(transparency * 255), '02X'),)\n",
    "    \n",
    "    combined = Image.alpha_composite(img, overlay)\n",
    "\n",
    "    # fig, ax = plt.subplots()\n",
    "    # ax.imshow(combined)\n",
    "    combined.save(f\"./1_airplane/new_{img_index}.png\")\n",
    "\n",
    "with open('./stl10_airplane.json', 'r') as s: \n",
    "    saved = json.load(s)\n",
    "\n",
    "for key in saved.keys():\n",
    "    if os.path.exists(f\"./1_airplane/{key}.png\"):\n",
    "        continue\n",
    "    else:\n",
    "        draw_transparent_squares(\"./stl10_binary/test_X.bin\", './stl10_airplane.json', key)"
   ]
  },
  {
   "cell_type": "code",
   "execution_count": 11,
   "metadata": {},
   "outputs": [],
   "source": [
    "with open('./stl10_test_bird_dup.json', 'r') as s: \n",
    "    saved = json.load(s)\n",
    "\n",
    "toBeBlocked = [k for k in saved if len(saved[k])> 1]"
   ]
  },
  {
   "cell_type": "code",
   "execution_count": 9,
   "metadata": {},
   "outputs": [],
   "source": []
  },
  {
   "cell_type": "code",
   "execution_count": null,
   "metadata": {},
   "outputs": [],
   "source": []
  }
 ],
 "metadata": {
  "kernelspec": {
   "display_name": "Python 3",
   "language": "python",
   "name": "python3"
  },
  "language_info": {
   "codemirror_mode": {
    "name": "ipython",
    "version": 3
   },
   "file_extension": ".py",
   "mimetype": "text/x-python",
   "name": "python",
   "nbconvert_exporter": "python",
   "pygments_lexer": "ipython3",
   "version": "3.11.6"
  }
 },
 "nbformat": 4,
 "nbformat_minor": 2
}
